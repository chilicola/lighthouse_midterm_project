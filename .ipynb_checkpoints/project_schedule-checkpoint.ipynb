{
 "cells": [
  {
   "cell_type": "markdown",
   "id": "1e43ab8c-6fa7-4989-9912-266800aa2339",
   "metadata": {},
   "source": [
    "## 6/25 - 26\n",
    "\n",
    "1. Data exploration\n",
    "2. Notebook walkthrough\n",
    "3. Brainstroming on features, approaches and task assignments"
   ]
  },
  {
   "cell_type": "markdown",
   "id": "d2d67bcd-3bf5-4e40-bb65-cfe769a12ff3",
   "metadata": {},
   "source": [
    "## 6/27 - 28\n",
    "\n",
    "1. Whole analysis steps should be completed (regardless out result for now)\n",
    "2. Point out possible improvements (feature selections and model tunning)"
   ]
  },
  {
   "cell_type": "markdown",
   "id": "c5d78093-4516-4c64-8b0f-7bd22775d84c",
   "metadata": {},
   "source": [
    "## 6/29 - 30\n",
    "\n",
    "1. Implement improvements\n",
    "2. Final review of results"
   ]
  },
  {
   "cell_type": "markdown",
   "id": "ddd43c1a-86b0-40d7-9027-c0251d6a496b",
   "metadata": {},
   "source": [
    "## 7/01 - 02\n",
    "\n",
    "1. Finish presentation slides\n",
    "2. Practice presentation"
   ]
  },
  {
   "cell_type": "markdown",
   "id": "19ad9881-93a5-4c6f-91d6-42f750db6407",
   "metadata": {},
   "source": [
    "## 7/02 5PM: Submittion"
   ]
  }
 ],
 "metadata": {
  "kernelspec": {
   "display_name": "Python 3",
   "language": "python",
   "name": "python3"
  },
  "language_info": {
   "codemirror_mode": {
    "name": "ipython",
    "version": 3
   },
   "file_extension": ".py",
   "mimetype": "text/x-python",
   "name": "python",
   "nbconvert_exporter": "python",
   "pygments_lexer": "ipython3",
   "version": "3.8.5"
  }
 },
 "nbformat": 4,
 "nbformat_minor": 5
}
